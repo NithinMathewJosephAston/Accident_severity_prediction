{
 "cells": [
  {
   "cell_type": "code",
   "execution_count": 1,
   "metadata": {
    "id": "5uSemczEvzLH"
   },
   "outputs": [],
   "source": [
    "# Base Libraries\n",
    "import re\n",
    "import time \n",
    "import numpy as np\n",
    "import pandas as pd\n",
    "import statistics\n",
    "import warnings\n",
    "from sklearn.metrics import accuracy_score, f1_score\n",
    "from sklearn.naive_bayes import GaussianNB\n",
    "from sklearn.tree import DecisionTreeClassifier\n",
    "from sklearn.preprocessing import StandardScaler\n",
    "from sklearn.model_selection import GridSearchCV\n",
    "from sklearn.neural_network import MLPClassifier\n",
    "from sklearn.metrics import classification_report\n",
    "from sklearn.model_selection import cross_validate\n",
    "from sklearn.ensemble import RandomForestClassifier\n",
    "from sklearn.linear_model import LogisticRegression\n",
    "\n",
    "\n",
    "warnings.filterwarnings(action='ignore')\n",
    "\n",
    "# Library for Google Colab\n",
    "from google.colab import drive"
   ]
  },
  {
   "cell_type": "markdown",
   "metadata": {
    "id": "q9KNHC6tx83X"
   },
   "source": [
    "##**Accident Severity Prediction Using Classification**\n",
    "\n",
    "Accident severity has been predicted using traditional methods of statistics in the past, such as logit algos, multinomial logit and logistic regression. However, these measures have been unable to predict non-linear relationships between independent factors that affect the causality of a road accident, thereby predicting inaccurate severity measures. The primary objective of this project is building a predictive model to predict the severity of accident in UK.\n",
    "\n",
    "##**Table of Contents**\n",
    " \n",
    "1.   Introduction: business objective\n",
    "2.   Feature selection\n",
    "3.   Feature scaling\n",
    "4.   Baseline method\n",
    "5.   Hyperparameter tuning\n",
    "6.   Model evaluation\n",
    "7.   Conclusion: key findings, possible future improvements."
   ]
  },
  {
   "cell_type": "markdown",
   "metadata": {
    "id": "Gh8TAeDiwZUK"
   },
   "source": [
    "##**Business objective:**\n",
    "Most car accident in the UK occur on high speed motorways in the countryside that are far from any hospital or emergency services reach. As a consequence, many chronic injuries are sustained, along with loss of life. Most injuries incured in car accidents can be prevented if proper care relief is provided at the right time. In times of multiple car accident crashes in the vicinity of the nearest emergency service, the aid has only a limited number of resources, which cannot practically be disperesed to each accident site. A situation like this requires priority based response.\n",
    "\n",
    "The objective of this project is to predict accident severity accurately based on predictor variables that can be obtained from the site of crash. The severity rating can then be used to prioritise dispatch of response team and organize first aid resources accordingly. Furthermore, this report discusses the mapping of accident hotspots to encourage resource allocation in specific areas.\n",
    "\n"
   ]
  },
  {
   "cell_type": "code",
   "execution_count": 2,
   "metadata": {
    "colab": {
     "base_uri": "https://localhost:8080/"
    },
    "id": "_A68sDzYzM7X",
    "outputId": "3f28139a-7dd5-481b-e675-59719d6b304c"
   },
   "outputs": [
    {
     "name": "stdout",
     "output_type": "stream",
     "text": [
      "Mounted at /content/gdrive\n"
     ]
    }
   ],
   "source": [
    "# Mount Google Drive on kernel\n",
    "drive.mount('/content/gdrive')\n",
    "path = \"/content/gdrive/My Drive/Colab Notebooks/Content\""
   ]
  },
  {
   "cell_type": "code",
   "execution_count": 3,
   "metadata": {
    "id": "RtNEAL8EzU7l"
   },
   "outputs": [],
   "source": [
    "# Loading the datasets into dataframes\n",
    "x_accident_train = pd.read_csv(\"gdrive/My Drive/Colab Notebooks/Content/x_accident_train.csv\",\n",
    "                               index_col=0)\n",
    "x_accident_test = pd.read_csv(\"gdrive/My Drive/Colab Notebooks/Content/x_accident_test.csv\", \n",
    "                              index_col=0)\n",
    "y_accident_train = pd.read_csv(\"gdrive/My Drive/Colab Notebooks/Content/y_accident_train.csv\", \n",
    "                               index_col=0)\n",
    "y_accident_test = pd.read_csv(\"gdrive/My Drive/Colab Notebooks/Content/y_accident_test.csv\", \n",
    "                              index_col=0)"
   ]
  },
  {
   "cell_type": "code",
   "execution_count": 4,
   "metadata": {
    "id": "j11eEPmUzYPo"
   },
   "outputs": [],
   "source": [
    "y_accident_train.head()\n",
    "y_trainset = y_accident_train[\"accident_severity\"]"
   ]
  },
  {
   "cell_type": "code",
   "execution_count": 5,
   "metadata": {
    "id": "kQZe0LIOzuhx"
   },
   "outputs": [],
   "source": [
    "y_accident_test.head()\n",
    "y_testset = y_accident_test[\"accident_severity\"]"
   ]
  },
  {
   "cell_type": "markdown",
   "metadata": {
    "id": "ybgzpoNhz2jl"
   },
   "source": [
    "##**Checking Correlation with features obtained after Onehotencoding:**\n",
    "First generating a correlation matrix by using predictore variables against target variables. Then identifying features whose correlation value are between 1 and -1. "
   ]
  },
  {
   "cell_type": "code",
   "execution_count": 6,
   "metadata": {
    "colab": {
     "base_uri": "https://localhost:8080/"
    },
    "id": "XYY2Jjdpz05u",
    "outputId": "50057007-84dd-4194-bb0d-c8479da937f0"
   },
   "outputs": [
    {
     "name": "stdout",
     "output_type": "stream",
     "text": [
      "light_conditions_6                    0.011559\n",
      "age_band_of_casualty_9                0.011352\n",
      "casualty_severity_2                   0.009372\n",
      "age_band_of_driver_9                  0.007953\n",
      "first_point_of_impact_3               0.007600\n",
      "                                        ...   \n",
      "vehicle_location_restricted_lane_4   -0.009365\n",
      "junction_location_5                  -0.010319\n",
      "casualty_severity_3                  -0.010669\n",
      "light_conditions_4                   -0.011245\n",
      "age_band_of_driver_1                 -0.015172\n",
      "Length: 118, dtype: float64\n"
     ]
    }
   ],
   "source": [
    "correlation_matrix = x_accident_train.corrwith(y_trainset, axis=0, drop=False)\n",
    "print(correlation_matrix.sort_values(ascending=False))"
   ]
  },
  {
   "cell_type": "code",
   "execution_count": 7,
   "metadata": {
    "colab": {
     "base_uri": "https://localhost:8080/"
    },
    "id": "4KQ98kI60k2n",
    "outputId": "9acfa7e0-2b73-4e8a-9866-b2a17838cc48"
   },
   "outputs": [
    {
     "name": "stdout",
     "output_type": "stream",
     "text": [
      "['speed_limit', 'age_of_vehicle', 'engine_capacity_cc', 'latitude', 'longitude', 'first_point_of_impact_0', 'first_point_of_impact_1', 'first_point_of_impact_2', 'first_point_of_impact_3', 'first_point_of_impact_4', 'trunk_road_flag_1', 'trunk_road_flag_2', 'urban_or_rural_area_1', 'urban_or_rural_area_2', 'age_band_of_casualty_1', 'age_band_of_casualty_2', 'age_band_of_casualty_3', 'age_band_of_casualty_4', 'age_band_of_casualty_5', 'age_band_of_casualty_6', 'age_band_of_casualty_7', 'age_band_of_casualty_8', 'age_band_of_casualty_9', 'age_band_of_casualty_10', 'age_band_of_casualty_11', 'vehicle_leaving_carriageway_0', 'vehicle_leaving_carriageway_1', 'vehicle_leaving_carriageway_2', 'vehicle_leaving_carriageway_3', 'vehicle_leaving_carriageway_4', 'vehicle_leaving_carriageway_5', 'vehicle_leaving_carriageway_6', 'vehicle_leaving_carriageway_7', 'vehicle_leaving_carriageway_8', 'vehicle_leaving_carriageway_9', 'light_conditions_1', 'light_conditions_4', 'light_conditions_5', 'light_conditions_6', 'light_conditions_7', 'casualty_class_1', 'casualty_class_2', 'casualty_class_3', 'age_band_of_driver_1', 'age_band_of_driver_2', 'age_band_of_driver_3', 'age_band_of_driver_4', 'age_band_of_driver_5', 'age_band_of_driver_6', 'age_band_of_driver_7', 'age_band_of_driver_8', 'age_band_of_driver_9', 'age_band_of_driver_10', 'age_band_of_driver_11', 'road_type_1', 'road_type_2', 'road_type_3', 'road_type_6', 'road_type_7', 'skidding_and_overturning_0', 'skidding_and_overturning_1', 'skidding_and_overturning_2', 'skidding_and_overturning_3', 'skidding_and_overturning_4', 'skidding_and_overturning_5', 'driver_imd_decile_1', 'driver_imd_decile_2', 'driver_imd_decile_3', 'driver_imd_decile_4', 'driver_imd_decile_5', 'driver_imd_decile_6', 'driver_imd_decile_7', 'driver_imd_decile_8', 'driver_imd_decile_9', 'driver_imd_decile_10', 'weather_conditions_1', 'weather_conditions_2', 'weather_conditions_3', 'weather_conditions_4', 'weather_conditions_5', 'weather_conditions_6', 'weather_conditions_7', 'weather_conditions_8', 'vehicle_location_restricted_lane_0', 'vehicle_location_restricted_lane_1', 'vehicle_location_restricted_lane_2', 'vehicle_location_restricted_lane_3', 'vehicle_location_restricted_lane_4', 'vehicle_location_restricted_lane_5', 'vehicle_location_restricted_lane_6', 'vehicle_location_restricted_lane_7', 'vehicle_location_restricted_lane_8', 'vehicle_location_restricted_lane_9', 'junction_location_0', 'junction_location_1', 'junction_location_2', 'junction_location_3', 'junction_location_4', 'junction_location_5', 'junction_location_6', 'junction_location_7', 'junction_location_8', 'junction_location_9', 'second_road_class_1', 'second_road_class_2', 'second_road_class_3', 'second_road_class_4', 'second_road_class_5', 'second_road_class_6', 'sex_of_casualty_1', 'sex_of_casualty_2', 'sex_of_driver_1', 'sex_of_driver_2', 'did_police_officer_attend_scene_of_accident_1', 'did_police_officer_attend_scene_of_accident_2', 'casualty_severity_1', 'casualty_severity_2', 'casualty_severity_3']\n"
     ]
    }
   ],
   "source": [
    "column_names = list(x_accident_train.columns)\n",
    "print(column_names)"
   ]
  },
  {
   "cell_type": "markdown",
   "metadata": {
    "id": "XIfRcv0Z0fYV"
   },
   "source": [
    "##**Selecting the features based on correlation value:**\n",
    "Once the features of non-interest are identified using correlation and a bit of common sense. They are dropped to improve model fitting. This can be considered as dimensionality reduction, cause removing unwanted features can improve the performance of a model."
   ]
  },
  {
   "cell_type": "code",
   "execution_count": 8,
   "metadata": {
    "colab": {
     "base_uri": "https://localhost:8080/"
    },
    "id": "P07fpgOg0amP",
    "outputId": "900f6d43-adcf-4c9f-e2e0-5e92c50e91a5"
   },
   "outputs": [
    {
     "data": {
      "text/plain": [
       "(64674, 76)"
      ]
     },
     "execution_count": 8,
     "metadata": {},
     "output_type": "execute_result"
    }
   ],
   "source": [
    "x_accident_train = x_accident_train.drop(['latitude', 'longitude', 'speed_limit', \n",
    "                                          'age_of_vehicle', 'engine_capacity_cc', \n",
    "                                          'trunk_road_flag_1', 'trunk_road_flag_2', \n",
    "                                          'age_band_of_casualty_1', \n",
    "                                          'age_band_of_casualty_2', \n",
    "                                          'age_band_of_casualty_3', \n",
    "                                          'age_band_of_casualty_4', \n",
    "                                          'age_band_of_casualty_5', \n",
    "                                          'age_band_of_casualty_6', \n",
    "                                          'age_band_of_casualty_7', \n",
    "                                          'age_band_of_casualty_8', \n",
    "                                          'age_band_of_casualty_9', \n",
    "                                          'age_band_of_casualty_10', \n",
    "                                          'age_band_of_casualty_11', \n",
    "                                          'vehicle_leaving_carriageway_1', \n",
    "                                          'vehicle_leaving_carriageway_2', \n",
    "                                          'vehicle_leaving_carriageway_3', \n",
    "                                          'vehicle_leaving_carriageway_4', \n",
    "                                          'vehicle_leaving_carriageway_5', \n",
    "                                          'vehicle_leaving_carriageway_6', \n",
    "                                          'vehicle_leaving_carriageway_7', \n",
    "                                          'vehicle_leaving_carriageway_8', \n",
    "                                          'vehicle_leaving_carriageway_9', \n",
    "                                          'age_band_of_driver_3', \n",
    "                                          'age_band_of_driver_4', \n",
    "                                          'age_band_of_driver_5', \n",
    "                                          'age_band_of_driver_6', \n",
    "                                          'age_band_of_driver_7', \n",
    "                                          'age_band_of_driver_8', \n",
    "                                          'age_band_of_driver_9', \n",
    "                                          'age_band_of_driver_10', \n",
    "                                          'age_band_of_driver_11', \n",
    "                                          'second_road_class_1', \n",
    "                                          'second_road_class_2', \n",
    "                                          'second_road_class_3', \n",
    "                                          'second_road_class_4', \n",
    "                                          'second_road_class_5', \n",
    "                                          'second_road_class_6'], axis=1)\n",
    "x_accident_train.shape"
   ]
  },
  {
   "cell_type": "code",
   "execution_count": 9,
   "metadata": {
    "colab": {
     "base_uri": "https://localhost:8080/"
    },
    "id": "bMEIn5Zo48eo",
    "outputId": "61e284eb-dd5c-42ce-d5e7-e9f68e182b01"
   },
   "outputs": [
    {
     "data": {
      "text/plain": [
       "(27718, 76)"
      ]
     },
     "execution_count": 9,
     "metadata": {},
     "output_type": "execute_result"
    }
   ],
   "source": [
    "x_accident_test = x_accident_test.drop(['latitude', 'longitude', 'speed_limit', \n",
    "                                          'age_of_vehicle', 'engine_capacity_cc', \n",
    "                                          'trunk_road_flag_1', 'trunk_road_flag_2', \n",
    "                                          'age_band_of_casualty_1', \n",
    "                                          'age_band_of_casualty_2', \n",
    "                                          'age_band_of_casualty_3', \n",
    "                                          'age_band_of_casualty_4', \n",
    "                                          'age_band_of_casualty_5', \n",
    "                                          'age_band_of_casualty_6', \n",
    "                                          'age_band_of_casualty_7', \n",
    "                                          'age_band_of_casualty_8', \n",
    "                                          'age_band_of_casualty_9', \n",
    "                                          'age_band_of_casualty_10', \n",
    "                                          'age_band_of_casualty_11', \n",
    "                                          'vehicle_leaving_carriageway_1', \n",
    "                                          'vehicle_leaving_carriageway_2', \n",
    "                                          'vehicle_leaving_carriageway_3', \n",
    "                                          'vehicle_leaving_carriageway_4', \n",
    "                                          'vehicle_leaving_carriageway_5', \n",
    "                                          'vehicle_leaving_carriageway_6', \n",
    "                                          'vehicle_leaving_carriageway_7', \n",
    "                                          'vehicle_leaving_carriageway_8', \n",
    "                                          'vehicle_leaving_carriageway_9', \n",
    "                                          'age_band_of_driver_3', \n",
    "                                          'age_band_of_driver_4', \n",
    "                                          'age_band_of_driver_5', \n",
    "                                          'age_band_of_driver_6', \n",
    "                                          'age_band_of_driver_7', \n",
    "                                          'age_band_of_driver_8', \n",
    "                                          'age_band_of_driver_9', \n",
    "                                          'age_band_of_driver_10', \n",
    "                                          'age_band_of_driver_11', \n",
    "                                          'second_road_class_1', \n",
    "                                          'second_road_class_2', \n",
    "                                          'second_road_class_3', \n",
    "                                          'second_road_class_4', \n",
    "                                          'second_road_class_5', \n",
    "                                          'second_road_class_6'], axis=1)\n",
    "x_accident_test.shape"
   ]
  },
  {
   "cell_type": "markdown",
   "metadata": {
    "id": "EKgVjoqM5Tbu"
   },
   "source": [
    "##**Feature Scaling using Standard scaler:**\n",
    "Normalize the range of independent variables or features of data."
   ]
  },
  {
   "cell_type": "code",
   "execution_count": 10,
   "metadata": {
    "colab": {
     "base_uri": "https://localhost:8080/",
     "height": 299
    },
    "id": "hXqYyb835SQO",
    "outputId": "6ec4a240-9de9-4e9d-b439-edf594999ccb"
   },
   "outputs": [
    {
     "data": {
      "text/html": [
       "\n",
       "  <div id=\"df-23a6272b-908d-499f-8a2b-08eb4f762e46\">\n",
       "    <div class=\"colab-df-container\">\n",
       "      <div>\n",
       "<style scoped>\n",
       "    .dataframe tbody tr th:only-of-type {\n",
       "        vertical-align: middle;\n",
       "    }\n",
       "\n",
       "    .dataframe tbody tr th {\n",
       "        vertical-align: top;\n",
       "    }\n",
       "\n",
       "    .dataframe thead th {\n",
       "        text-align: right;\n",
       "    }\n",
       "</style>\n",
       "<table border=\"1\" class=\"dataframe\">\n",
       "  <thead>\n",
       "    <tr style=\"text-align: right;\">\n",
       "      <th></th>\n",
       "      <th>first_point_of_impact_0</th>\n",
       "      <th>first_point_of_impact_1</th>\n",
       "      <th>first_point_of_impact_2</th>\n",
       "      <th>first_point_of_impact_3</th>\n",
       "      <th>first_point_of_impact_4</th>\n",
       "      <th>urban_or_rural_area_1</th>\n",
       "      <th>urban_or_rural_area_2</th>\n",
       "      <th>vehicle_leaving_carriageway_0</th>\n",
       "      <th>light_conditions_1</th>\n",
       "      <th>light_conditions_4</th>\n",
       "      <th>...</th>\n",
       "      <th>junction_location_9</th>\n",
       "      <th>sex_of_casualty_1</th>\n",
       "      <th>sex_of_casualty_2</th>\n",
       "      <th>sex_of_driver_1</th>\n",
       "      <th>sex_of_driver_2</th>\n",
       "      <th>did_police_officer_attend_scene_of_accident_1</th>\n",
       "      <th>did_police_officer_attend_scene_of_accident_2</th>\n",
       "      <th>casualty_severity_1</th>\n",
       "      <th>casualty_severity_2</th>\n",
       "      <th>casualty_severity_3</th>\n",
       "    </tr>\n",
       "  </thead>\n",
       "  <tbody>\n",
       "    <tr>\n",
       "      <th>0</th>\n",
       "      <td>-0.202145</td>\n",
       "      <td>-1.052266</td>\n",
       "      <td>-0.449204</td>\n",
       "      <td>-0.39983</td>\n",
       "      <td>2.592023</td>\n",
       "      <td>-1.173652</td>\n",
       "      <td>1.173652</td>\n",
       "      <td>0.495507</td>\n",
       "      <td>-1.523049</td>\n",
       "      <td>-0.505025</td>\n",
       "      <td>...</td>\n",
       "      <td>-0.09934</td>\n",
       "      <td>-1.273240</td>\n",
       "      <td>1.273240</td>\n",
       "      <td>-1.499439</td>\n",
       "      <td>1.499439</td>\n",
       "      <td>0.606256</td>\n",
       "      <td>-0.606256</td>\n",
       "      <td>-0.120127</td>\n",
       "      <td>-0.470132</td>\n",
       "      <td>0.492552</td>\n",
       "    </tr>\n",
       "    <tr>\n",
       "      <th>1</th>\n",
       "      <td>-0.202145</td>\n",
       "      <td>-1.052266</td>\n",
       "      <td>-0.449204</td>\n",
       "      <td>-0.39983</td>\n",
       "      <td>2.592023</td>\n",
       "      <td>0.852042</td>\n",
       "      <td>-0.852042</td>\n",
       "      <td>0.495507</td>\n",
       "      <td>0.656577</td>\n",
       "      <td>-0.505025</td>\n",
       "      <td>...</td>\n",
       "      <td>-0.09934</td>\n",
       "      <td>-1.273240</td>\n",
       "      <td>1.273240</td>\n",
       "      <td>0.666916</td>\n",
       "      <td>-0.666916</td>\n",
       "      <td>0.606256</td>\n",
       "      <td>-0.606256</td>\n",
       "      <td>-0.120127</td>\n",
       "      <td>-0.470132</td>\n",
       "      <td>0.492552</td>\n",
       "    </tr>\n",
       "    <tr>\n",
       "      <th>2</th>\n",
       "      <td>-0.202145</td>\n",
       "      <td>-1.052266</td>\n",
       "      <td>2.226162</td>\n",
       "      <td>-0.39983</td>\n",
       "      <td>-0.385799</td>\n",
       "      <td>0.852042</td>\n",
       "      <td>-0.852042</td>\n",
       "      <td>0.495507</td>\n",
       "      <td>0.656577</td>\n",
       "      <td>-0.505025</td>\n",
       "      <td>...</td>\n",
       "      <td>-0.09934</td>\n",
       "      <td>0.785398</td>\n",
       "      <td>-0.785398</td>\n",
       "      <td>0.666916</td>\n",
       "      <td>-0.666916</td>\n",
       "      <td>0.606256</td>\n",
       "      <td>-0.606256</td>\n",
       "      <td>-0.120127</td>\n",
       "      <td>2.127061</td>\n",
       "      <td>-2.030242</td>\n",
       "    </tr>\n",
       "    <tr>\n",
       "      <th>3</th>\n",
       "      <td>-0.202145</td>\n",
       "      <td>0.950330</td>\n",
       "      <td>-0.449204</td>\n",
       "      <td>-0.39983</td>\n",
       "      <td>-0.385799</td>\n",
       "      <td>-1.173652</td>\n",
       "      <td>1.173652</td>\n",
       "      <td>0.495507</td>\n",
       "      <td>0.656577</td>\n",
       "      <td>-0.505025</td>\n",
       "      <td>...</td>\n",
       "      <td>-0.09934</td>\n",
       "      <td>0.785398</td>\n",
       "      <td>-0.785398</td>\n",
       "      <td>0.666916</td>\n",
       "      <td>-0.666916</td>\n",
       "      <td>0.606256</td>\n",
       "      <td>-0.606256</td>\n",
       "      <td>-0.120127</td>\n",
       "      <td>-0.470132</td>\n",
       "      <td>0.492552</td>\n",
       "    </tr>\n",
       "    <tr>\n",
       "      <th>4</th>\n",
       "      <td>-0.202145</td>\n",
       "      <td>0.950330</td>\n",
       "      <td>-0.449204</td>\n",
       "      <td>-0.39983</td>\n",
       "      <td>-0.385799</td>\n",
       "      <td>0.852042</td>\n",
       "      <td>-0.852042</td>\n",
       "      <td>0.495507</td>\n",
       "      <td>0.656577</td>\n",
       "      <td>-0.505025</td>\n",
       "      <td>...</td>\n",
       "      <td>-0.09934</td>\n",
       "      <td>-1.273240</td>\n",
       "      <td>1.273240</td>\n",
       "      <td>0.666916</td>\n",
       "      <td>-0.666916</td>\n",
       "      <td>0.606256</td>\n",
       "      <td>-0.606256</td>\n",
       "      <td>-0.120127</td>\n",
       "      <td>-0.470132</td>\n",
       "      <td>0.492552</td>\n",
       "    </tr>\n",
       "  </tbody>\n",
       "</table>\n",
       "<p>5 rows × 76 columns</p>\n",
       "</div>\n",
       "      <button class=\"colab-df-convert\" onclick=\"convertToInteractive('df-23a6272b-908d-499f-8a2b-08eb4f762e46')\"\n",
       "              title=\"Convert this dataframe to an interactive table.\"\n",
       "              style=\"display:none;\">\n",
       "        \n",
       "  <svg xmlns=\"http://www.w3.org/2000/svg\" height=\"24px\"viewBox=\"0 0 24 24\"\n",
       "       width=\"24px\">\n",
       "    <path d=\"M0 0h24v24H0V0z\" fill=\"none\"/>\n",
       "    <path d=\"M18.56 5.44l.94 2.06.94-2.06 2.06-.94-2.06-.94-.94-2.06-.94 2.06-2.06.94zm-11 1L8.5 8.5l.94-2.06 2.06-.94-2.06-.94L8.5 2.5l-.94 2.06-2.06.94zm10 10l.94 2.06.94-2.06 2.06-.94-2.06-.94-.94-2.06-.94 2.06-2.06.94z\"/><path d=\"M17.41 7.96l-1.37-1.37c-.4-.4-.92-.59-1.43-.59-.52 0-1.04.2-1.43.59L10.3 9.45l-7.72 7.72c-.78.78-.78 2.05 0 2.83L4 21.41c.39.39.9.59 1.41.59.51 0 1.02-.2 1.41-.59l7.78-7.78 2.81-2.81c.8-.78.8-2.07 0-2.86zM5.41 20L4 18.59l7.72-7.72 1.47 1.35L5.41 20z\"/>\n",
       "  </svg>\n",
       "      </button>\n",
       "      \n",
       "  <style>\n",
       "    .colab-df-container {\n",
       "      display:flex;\n",
       "      flex-wrap:wrap;\n",
       "      gap: 12px;\n",
       "    }\n",
       "\n",
       "    .colab-df-convert {\n",
       "      background-color: #E8F0FE;\n",
       "      border: none;\n",
       "      border-radius: 50%;\n",
       "      cursor: pointer;\n",
       "      display: none;\n",
       "      fill: #1967D2;\n",
       "      height: 32px;\n",
       "      padding: 0 0 0 0;\n",
       "      width: 32px;\n",
       "    }\n",
       "\n",
       "    .colab-df-convert:hover {\n",
       "      background-color: #E2EBFA;\n",
       "      box-shadow: 0px 1px 2px rgba(60, 64, 67, 0.3), 0px 1px 3px 1px rgba(60, 64, 67, 0.15);\n",
       "      fill: #174EA6;\n",
       "    }\n",
       "\n",
       "    [theme=dark] .colab-df-convert {\n",
       "      background-color: #3B4455;\n",
       "      fill: #D2E3FC;\n",
       "    }\n",
       "\n",
       "    [theme=dark] .colab-df-convert:hover {\n",
       "      background-color: #434B5C;\n",
       "      box-shadow: 0px 1px 3px 1px rgba(0, 0, 0, 0.15);\n",
       "      filter: drop-shadow(0px 1px 2px rgba(0, 0, 0, 0.3));\n",
       "      fill: #FFFFFF;\n",
       "    }\n",
       "  </style>\n",
       "\n",
       "      <script>\n",
       "        const buttonEl =\n",
       "          document.querySelector('#df-23a6272b-908d-499f-8a2b-08eb4f762e46 button.colab-df-convert');\n",
       "        buttonEl.style.display =\n",
       "          google.colab.kernel.accessAllowed ? 'block' : 'none';\n",
       "\n",
       "        async function convertToInteractive(key) {\n",
       "          const element = document.querySelector('#df-23a6272b-908d-499f-8a2b-08eb4f762e46');\n",
       "          const dataTable =\n",
       "            await google.colab.kernel.invokeFunction('convertToInteractive',\n",
       "                                                     [key], {});\n",
       "          if (!dataTable) return;\n",
       "\n",
       "          const docLinkHtml = 'Like what you see? Visit the ' +\n",
       "            '<a target=\"_blank\" href=https://colab.research.google.com/notebooks/data_table.ipynb>data table notebook</a>'\n",
       "            + ' to learn more about interactive tables.';\n",
       "          element.innerHTML = '';\n",
       "          dataTable['output_type'] = 'display_data';\n",
       "          await google.colab.output.renderOutput(dataTable, element);\n",
       "          const docLink = document.createElement('div');\n",
       "          docLink.innerHTML = docLinkHtml;\n",
       "          element.appendChild(docLink);\n",
       "        }\n",
       "      </script>\n",
       "    </div>\n",
       "  </div>\n",
       "  "
      ],
      "text/plain": [
       "   first_point_of_impact_0  first_point_of_impact_1  first_point_of_impact_2  \\\n",
       "0                -0.202145                -1.052266                -0.449204   \n",
       "1                -0.202145                -1.052266                -0.449204   \n",
       "2                -0.202145                -1.052266                 2.226162   \n",
       "3                -0.202145                 0.950330                -0.449204   \n",
       "4                -0.202145                 0.950330                -0.449204   \n",
       "\n",
       "   first_point_of_impact_3  first_point_of_impact_4  urban_or_rural_area_1  \\\n",
       "0                 -0.39983                 2.592023              -1.173652   \n",
       "1                 -0.39983                 2.592023               0.852042   \n",
       "2                 -0.39983                -0.385799               0.852042   \n",
       "3                 -0.39983                -0.385799              -1.173652   \n",
       "4                 -0.39983                -0.385799               0.852042   \n",
       "\n",
       "   urban_or_rural_area_2  vehicle_leaving_carriageway_0  light_conditions_1  \\\n",
       "0               1.173652                       0.495507           -1.523049   \n",
       "1              -0.852042                       0.495507            0.656577   \n",
       "2              -0.852042                       0.495507            0.656577   \n",
       "3               1.173652                       0.495507            0.656577   \n",
       "4              -0.852042                       0.495507            0.656577   \n",
       "\n",
       "   light_conditions_4  ...  junction_location_9  sex_of_casualty_1  \\\n",
       "0           -0.505025  ...             -0.09934          -1.273240   \n",
       "1           -0.505025  ...             -0.09934          -1.273240   \n",
       "2           -0.505025  ...             -0.09934           0.785398   \n",
       "3           -0.505025  ...             -0.09934           0.785398   \n",
       "4           -0.505025  ...             -0.09934          -1.273240   \n",
       "\n",
       "   sex_of_casualty_2  sex_of_driver_1  sex_of_driver_2  \\\n",
       "0           1.273240        -1.499439         1.499439   \n",
       "1           1.273240         0.666916        -0.666916   \n",
       "2          -0.785398         0.666916        -0.666916   \n",
       "3          -0.785398         0.666916        -0.666916   \n",
       "4           1.273240         0.666916        -0.666916   \n",
       "\n",
       "   did_police_officer_attend_scene_of_accident_1  \\\n",
       "0                                       0.606256   \n",
       "1                                       0.606256   \n",
       "2                                       0.606256   \n",
       "3                                       0.606256   \n",
       "4                                       0.606256   \n",
       "\n",
       "   did_police_officer_attend_scene_of_accident_2  casualty_severity_1  \\\n",
       "0                                      -0.606256            -0.120127   \n",
       "1                                      -0.606256            -0.120127   \n",
       "2                                      -0.606256            -0.120127   \n",
       "3                                      -0.606256            -0.120127   \n",
       "4                                      -0.606256            -0.120127   \n",
       "\n",
       "   casualty_severity_2  casualty_severity_3  \n",
       "0            -0.470132             0.492552  \n",
       "1            -0.470132             0.492552  \n",
       "2             2.127061            -2.030242  \n",
       "3            -0.470132             0.492552  \n",
       "4            -0.470132             0.492552  \n",
       "\n",
       "[5 rows x 76 columns]"
      ]
     },
     "execution_count": 10,
     "metadata": {},
     "output_type": "execute_result"
    }
   ],
   "source": [
    "scaler = StandardScaler()\n",
    "\n",
    "# fit_transform returns a NumPy array, so we need to put it back \n",
    "# into a Pandas dataframe\n",
    "scaled_vals = scaler.fit_transform(x_accident_train)\n",
    "x_trainset = pd.DataFrame(scaled_vals, columns=x_accident_train.columns)\n",
    "\n",
    "# inspect the data\n",
    "x_trainset.head()"
   ]
  },
  {
   "cell_type": "code",
   "execution_count": 11,
   "metadata": {
    "colab": {
     "base_uri": "https://localhost:8080/",
     "height": 299
    },
    "id": "IsoO4DYB5eqx",
    "outputId": "b02d8e3b-94c8-4639-c78d-dae14374bfbf"
   },
   "outputs": [
    {
     "data": {
      "text/html": [
       "\n",
       "  <div id=\"df-d548da48-f3b8-4921-9f2a-5f77eb8e9b36\">\n",
       "    <div class=\"colab-df-container\">\n",
       "      <div>\n",
       "<style scoped>\n",
       "    .dataframe tbody tr th:only-of-type {\n",
       "        vertical-align: middle;\n",
       "    }\n",
       "\n",
       "    .dataframe tbody tr th {\n",
       "        vertical-align: top;\n",
       "    }\n",
       "\n",
       "    .dataframe thead th {\n",
       "        text-align: right;\n",
       "    }\n",
       "</style>\n",
       "<table border=\"1\" class=\"dataframe\">\n",
       "  <thead>\n",
       "    <tr style=\"text-align: right;\">\n",
       "      <th></th>\n",
       "      <th>first_point_of_impact_0</th>\n",
       "      <th>first_point_of_impact_1</th>\n",
       "      <th>first_point_of_impact_2</th>\n",
       "      <th>first_point_of_impact_3</th>\n",
       "      <th>first_point_of_impact_4</th>\n",
       "      <th>urban_or_rural_area_1</th>\n",
       "      <th>urban_or_rural_area_2</th>\n",
       "      <th>vehicle_leaving_carriageway_0</th>\n",
       "      <th>light_conditions_1</th>\n",
       "      <th>light_conditions_4</th>\n",
       "      <th>...</th>\n",
       "      <th>junction_location_9</th>\n",
       "      <th>sex_of_casualty_1</th>\n",
       "      <th>sex_of_casualty_2</th>\n",
       "      <th>sex_of_driver_1</th>\n",
       "      <th>sex_of_driver_2</th>\n",
       "      <th>did_police_officer_attend_scene_of_accident_1</th>\n",
       "      <th>did_police_officer_attend_scene_of_accident_2</th>\n",
       "      <th>casualty_severity_1</th>\n",
       "      <th>casualty_severity_2</th>\n",
       "      <th>casualty_severity_3</th>\n",
       "    </tr>\n",
       "  </thead>\n",
       "  <tbody>\n",
       "    <tr>\n",
       "      <th>0</th>\n",
       "      <td>-0.202145</td>\n",
       "      <td>-1.052266</td>\n",
       "      <td>-0.449204</td>\n",
       "      <td>-0.39983</td>\n",
       "      <td>2.592023</td>\n",
       "      <td>0.852042</td>\n",
       "      <td>-0.852042</td>\n",
       "      <td>0.495507</td>\n",
       "      <td>0.656577</td>\n",
       "      <td>-0.505025</td>\n",
       "      <td>...</td>\n",
       "      <td>-0.09934</td>\n",
       "      <td>0.785398</td>\n",
       "      <td>-0.785398</td>\n",
       "      <td>0.666916</td>\n",
       "      <td>-0.666916</td>\n",
       "      <td>0.606256</td>\n",
       "      <td>-0.606256</td>\n",
       "      <td>-0.120127</td>\n",
       "      <td>-0.470132</td>\n",
       "      <td>0.492552</td>\n",
       "    </tr>\n",
       "    <tr>\n",
       "      <th>1</th>\n",
       "      <td>-0.202145</td>\n",
       "      <td>0.950330</td>\n",
       "      <td>-0.449204</td>\n",
       "      <td>-0.39983</td>\n",
       "      <td>-0.385799</td>\n",
       "      <td>-1.173652</td>\n",
       "      <td>1.173652</td>\n",
       "      <td>-2.018135</td>\n",
       "      <td>-1.523049</td>\n",
       "      <td>-0.505025</td>\n",
       "      <td>...</td>\n",
       "      <td>-0.09934</td>\n",
       "      <td>0.785398</td>\n",
       "      <td>-0.785398</td>\n",
       "      <td>0.666916</td>\n",
       "      <td>-0.666916</td>\n",
       "      <td>0.606256</td>\n",
       "      <td>-0.606256</td>\n",
       "      <td>-0.120127</td>\n",
       "      <td>-0.470132</td>\n",
       "      <td>0.492552</td>\n",
       "    </tr>\n",
       "    <tr>\n",
       "      <th>2</th>\n",
       "      <td>-0.202145</td>\n",
       "      <td>0.950330</td>\n",
       "      <td>-0.449204</td>\n",
       "      <td>-0.39983</td>\n",
       "      <td>-0.385799</td>\n",
       "      <td>0.852042</td>\n",
       "      <td>-0.852042</td>\n",
       "      <td>0.495507</td>\n",
       "      <td>0.656577</td>\n",
       "      <td>-0.505025</td>\n",
       "      <td>...</td>\n",
       "      <td>-0.09934</td>\n",
       "      <td>0.785398</td>\n",
       "      <td>-0.785398</td>\n",
       "      <td>0.666916</td>\n",
       "      <td>-0.666916</td>\n",
       "      <td>0.606256</td>\n",
       "      <td>-0.606256</td>\n",
       "      <td>-0.120127</td>\n",
       "      <td>-0.470132</td>\n",
       "      <td>0.492552</td>\n",
       "    </tr>\n",
       "    <tr>\n",
       "      <th>3</th>\n",
       "      <td>-0.202145</td>\n",
       "      <td>0.950330</td>\n",
       "      <td>-0.449204</td>\n",
       "      <td>-0.39983</td>\n",
       "      <td>-0.385799</td>\n",
       "      <td>-1.173652</td>\n",
       "      <td>1.173652</td>\n",
       "      <td>0.495507</td>\n",
       "      <td>0.656577</td>\n",
       "      <td>-0.505025</td>\n",
       "      <td>...</td>\n",
       "      <td>-0.09934</td>\n",
       "      <td>0.785398</td>\n",
       "      <td>-0.785398</td>\n",
       "      <td>0.666916</td>\n",
       "      <td>-0.666916</td>\n",
       "      <td>0.606256</td>\n",
       "      <td>-0.606256</td>\n",
       "      <td>-0.120127</td>\n",
       "      <td>2.127061</td>\n",
       "      <td>-2.030242</td>\n",
       "    </tr>\n",
       "    <tr>\n",
       "      <th>4</th>\n",
       "      <td>-0.202145</td>\n",
       "      <td>-1.052266</td>\n",
       "      <td>2.226162</td>\n",
       "      <td>-0.39983</td>\n",
       "      <td>-0.385799</td>\n",
       "      <td>0.852042</td>\n",
       "      <td>-0.852042</td>\n",
       "      <td>0.495507</td>\n",
       "      <td>0.656577</td>\n",
       "      <td>-0.505025</td>\n",
       "      <td>...</td>\n",
       "      <td>-0.09934</td>\n",
       "      <td>0.785398</td>\n",
       "      <td>-0.785398</td>\n",
       "      <td>0.666916</td>\n",
       "      <td>-0.666916</td>\n",
       "      <td>-1.649468</td>\n",
       "      <td>1.649468</td>\n",
       "      <td>-0.120127</td>\n",
       "      <td>-0.470132</td>\n",
       "      <td>0.492552</td>\n",
       "    </tr>\n",
       "  </tbody>\n",
       "</table>\n",
       "<p>5 rows × 76 columns</p>\n",
       "</div>\n",
       "      <button class=\"colab-df-convert\" onclick=\"convertToInteractive('df-d548da48-f3b8-4921-9f2a-5f77eb8e9b36')\"\n",
       "              title=\"Convert this dataframe to an interactive table.\"\n",
       "              style=\"display:none;\">\n",
       "        \n",
       "  <svg xmlns=\"http://www.w3.org/2000/svg\" height=\"24px\"viewBox=\"0 0 24 24\"\n",
       "       width=\"24px\">\n",
       "    <path d=\"M0 0h24v24H0V0z\" fill=\"none\"/>\n",
       "    <path d=\"M18.56 5.44l.94 2.06.94-2.06 2.06-.94-2.06-.94-.94-2.06-.94 2.06-2.06.94zm-11 1L8.5 8.5l.94-2.06 2.06-.94-2.06-.94L8.5 2.5l-.94 2.06-2.06.94zm10 10l.94 2.06.94-2.06 2.06-.94-2.06-.94-.94-2.06-.94 2.06-2.06.94z\"/><path d=\"M17.41 7.96l-1.37-1.37c-.4-.4-.92-.59-1.43-.59-.52 0-1.04.2-1.43.59L10.3 9.45l-7.72 7.72c-.78.78-.78 2.05 0 2.83L4 21.41c.39.39.9.59 1.41.59.51 0 1.02-.2 1.41-.59l7.78-7.78 2.81-2.81c.8-.78.8-2.07 0-2.86zM5.41 20L4 18.59l7.72-7.72 1.47 1.35L5.41 20z\"/>\n",
       "  </svg>\n",
       "      </button>\n",
       "      \n",
       "  <style>\n",
       "    .colab-df-container {\n",
       "      display:flex;\n",
       "      flex-wrap:wrap;\n",
       "      gap: 12px;\n",
       "    }\n",
       "\n",
       "    .colab-df-convert {\n",
       "      background-color: #E8F0FE;\n",
       "      border: none;\n",
       "      border-radius: 50%;\n",
       "      cursor: pointer;\n",
       "      display: none;\n",
       "      fill: #1967D2;\n",
       "      height: 32px;\n",
       "      padding: 0 0 0 0;\n",
       "      width: 32px;\n",
       "    }\n",
       "\n",
       "    .colab-df-convert:hover {\n",
       "      background-color: #E2EBFA;\n",
       "      box-shadow: 0px 1px 2px rgba(60, 64, 67, 0.3), 0px 1px 3px 1px rgba(60, 64, 67, 0.15);\n",
       "      fill: #174EA6;\n",
       "    }\n",
       "\n",
       "    [theme=dark] .colab-df-convert {\n",
       "      background-color: #3B4455;\n",
       "      fill: #D2E3FC;\n",
       "    }\n",
       "\n",
       "    [theme=dark] .colab-df-convert:hover {\n",
       "      background-color: #434B5C;\n",
       "      box-shadow: 0px 1px 3px 1px rgba(0, 0, 0, 0.15);\n",
       "      filter: drop-shadow(0px 1px 2px rgba(0, 0, 0, 0.3));\n",
       "      fill: #FFFFFF;\n",
       "    }\n",
       "  </style>\n",
       "\n",
       "      <script>\n",
       "        const buttonEl =\n",
       "          document.querySelector('#df-d548da48-f3b8-4921-9f2a-5f77eb8e9b36 button.colab-df-convert');\n",
       "        buttonEl.style.display =\n",
       "          google.colab.kernel.accessAllowed ? 'block' : 'none';\n",
       "\n",
       "        async function convertToInteractive(key) {\n",
       "          const element = document.querySelector('#df-d548da48-f3b8-4921-9f2a-5f77eb8e9b36');\n",
       "          const dataTable =\n",
       "            await google.colab.kernel.invokeFunction('convertToInteractive',\n",
       "                                                     [key], {});\n",
       "          if (!dataTable) return;\n",
       "\n",
       "          const docLinkHtml = 'Like what you see? Visit the ' +\n",
       "            '<a target=\"_blank\" href=https://colab.research.google.com/notebooks/data_table.ipynb>data table notebook</a>'\n",
       "            + ' to learn more about interactive tables.';\n",
       "          element.innerHTML = '';\n",
       "          dataTable['output_type'] = 'display_data';\n",
       "          await google.colab.output.renderOutput(dataTable, element);\n",
       "          const docLink = document.createElement('div');\n",
       "          docLink.innerHTML = docLinkHtml;\n",
       "          element.appendChild(docLink);\n",
       "        }\n",
       "      </script>\n",
       "    </div>\n",
       "  </div>\n",
       "  "
      ],
      "text/plain": [
       "   first_point_of_impact_0  first_point_of_impact_1  first_point_of_impact_2  \\\n",
       "0                -0.202145                -1.052266                -0.449204   \n",
       "1                -0.202145                 0.950330                -0.449204   \n",
       "2                -0.202145                 0.950330                -0.449204   \n",
       "3                -0.202145                 0.950330                -0.449204   \n",
       "4                -0.202145                -1.052266                 2.226162   \n",
       "\n",
       "   first_point_of_impact_3  first_point_of_impact_4  urban_or_rural_area_1  \\\n",
       "0                 -0.39983                 2.592023               0.852042   \n",
       "1                 -0.39983                -0.385799              -1.173652   \n",
       "2                 -0.39983                -0.385799               0.852042   \n",
       "3                 -0.39983                -0.385799              -1.173652   \n",
       "4                 -0.39983                -0.385799               0.852042   \n",
       "\n",
       "   urban_or_rural_area_2  vehicle_leaving_carriageway_0  light_conditions_1  \\\n",
       "0              -0.852042                       0.495507            0.656577   \n",
       "1               1.173652                      -2.018135           -1.523049   \n",
       "2              -0.852042                       0.495507            0.656577   \n",
       "3               1.173652                       0.495507            0.656577   \n",
       "4              -0.852042                       0.495507            0.656577   \n",
       "\n",
       "   light_conditions_4  ...  junction_location_9  sex_of_casualty_1  \\\n",
       "0           -0.505025  ...             -0.09934           0.785398   \n",
       "1           -0.505025  ...             -0.09934           0.785398   \n",
       "2           -0.505025  ...             -0.09934           0.785398   \n",
       "3           -0.505025  ...             -0.09934           0.785398   \n",
       "4           -0.505025  ...             -0.09934           0.785398   \n",
       "\n",
       "   sex_of_casualty_2  sex_of_driver_1  sex_of_driver_2  \\\n",
       "0          -0.785398         0.666916        -0.666916   \n",
       "1          -0.785398         0.666916        -0.666916   \n",
       "2          -0.785398         0.666916        -0.666916   \n",
       "3          -0.785398         0.666916        -0.666916   \n",
       "4          -0.785398         0.666916        -0.666916   \n",
       "\n",
       "   did_police_officer_attend_scene_of_accident_1  \\\n",
       "0                                       0.606256   \n",
       "1                                       0.606256   \n",
       "2                                       0.606256   \n",
       "3                                       0.606256   \n",
       "4                                      -1.649468   \n",
       "\n",
       "   did_police_officer_attend_scene_of_accident_2  casualty_severity_1  \\\n",
       "0                                      -0.606256            -0.120127   \n",
       "1                                      -0.606256            -0.120127   \n",
       "2                                      -0.606256            -0.120127   \n",
       "3                                      -0.606256            -0.120127   \n",
       "4                                       1.649468            -0.120127   \n",
       "\n",
       "   casualty_severity_2  casualty_severity_3  \n",
       "0            -0.470132             0.492552  \n",
       "1            -0.470132             0.492552  \n",
       "2            -0.470132             0.492552  \n",
       "3             2.127061            -2.030242  \n",
       "4            -0.470132             0.492552  \n",
       "\n",
       "[5 rows x 76 columns]"
      ]
     },
     "execution_count": 11,
     "metadata": {},
     "output_type": "execute_result"
    }
   ],
   "source": [
    "scaled_vals = scaler.transform(x_accident_test)\n",
    "x_testset = pd.DataFrame(scaled_vals, columns=x_accident_test.columns)\n",
    "\n",
    "x_testset.head()"
   ]
  },
  {
   "cell_type": "markdown",
   "metadata": {
    "id": "qfbrOucR5vJA"
   },
   "source": [
    "##**Setting up a Baseline:**\n",
    "\n",
    "We will use macro-averaging in this project. For the label 3 which corresponds to \"Slight\", the accuracy measures will be:\n",
    "\n",
    "Precision: ((True Positive)/((True Positive) + (False Positive))) : 48868/64674 = 0.7556\n",
    "\n",
    "Recall: ((True Positive)/((True Positive) + (False Negative))) : 48868/48868 = 1.0\n",
    "\n",
    "F-score: 2/(1/precision + 1/recall) = 0.86"
   ]
  },
  {
   "cell_type": "code",
   "execution_count": 12,
   "metadata": {
    "colab": {
     "base_uri": "https://localhost:8080/"
    },
    "id": "PBj8GRGJ6KA3",
    "outputId": "43ab61d8-c0a9-47d3-e385-c969daf5f847"
   },
   "outputs": [
    {
     "name": "stdout",
     "output_type": "stream",
     "text": [
      "accident_severity\n",
      "3                    48868\n",
      "2                    14430\n",
      "1                     1376\n",
      "dtype: int64\n"
     ]
    },
    {
     "data": {
      "text/plain": [
       "64674"
      ]
     },
     "execution_count": 12,
     "metadata": {},
     "output_type": "execute_result"
    }
   ],
   "source": [
    "print(y_accident_train.value_counts())\n",
    "y_trainset.shape[0]"
   ]
  },
  {
   "cell_type": "code",
   "execution_count": 13,
   "metadata": {
    "id": "aSAjcnAZ6lLI"
   },
   "outputs": [],
   "source": [
    "def naivebayes_gaussian_model(train_x_1, test_x_1, train_y_1, test_y_1):\n",
    "    '''\n",
    "    :param train_x_1: 70% of the train data from the observation variables\n",
    "    :param test_x_1: 30% of the test data from the observation variables\n",
    "    :param train_y_1: 70% of the train data from the response variables\n",
    "    :param test_y_1: 30% of the test data from the response variables\n",
    "    :return: model_1\n",
    "    '''\n",
    "    model_1 = GaussianNB()\n",
    "    model_1.fit(train_x_1, train_y_1)\n",
    "    print(\"Naive Bayes Gaussian model\\n\")\n",
    "    print(\"Train accuracy:\", np.round(accuracy_score(train_y_1,\n",
    "                                                     model_1.predict(train_x_1)), 2)) \n",
    "    print(\"Train f1_score:\", np.round(f1_score(train_y_1,\n",
    "                                               model_1.predict(train_x_1),\n",
    "                                               average =\"macro\"), 2))\n",
    "    return model_1\n",
    "\n",
    "\n",
    "def decision_tree_model(train_x_2, test_x_2, train_y_2, test_y_2):\n",
    "    '''\n",
    "    :param train_x_2: 70% of the train data from the observation variables\n",
    "    :param test_x_2: 30% of the test data from the observation variables\n",
    "    :param train_y_2: 70% of the train data from the response variables\n",
    "    :param test_y_2: 30% of the test data from the response variables\n",
    "    :return: model_2\n",
    "    '''\n",
    "    model_2 = DecisionTreeClassifier()\n",
    "    model_2.fit(train_x_2, train_y_2)\n",
    "    print(\"Decision Tree model\\n\")\n",
    "    print(\"Train accuracy:\", np.round(accuracy_score(train_y_2,\n",
    "                                                     model_2.predict(train_x_2)), 2))\n",
    "    print(\"Train f1_score:\", np.round(f1_score(train_y_2,\n",
    "                                               model_2.predict(train_x_2),\n",
    "                                               average =\"macro\"), 2))\n",
    "    return model_2\n",
    "\n",
    "\n",
    "def neural_network_model(train_x_3, test_x_3, train_y_3, test_y_3):\n",
    "    '''\n",
    "    :param train_x_3: 70% of the train data from the observation variables\n",
    "    :param test_x_3: 30% of the test data from the observation variables\n",
    "    :param train_y_3: 70% of the train data from the response variables\n",
    "    :param test_y_3: 30% of the test data from the response variables\n",
    "    :return: model_3\n",
    "    '''\n",
    "    model_3 = MLPClassifier(max_iter=2500, random_state=42)\n",
    "    model_3.fit(train_x_3, train_y_3)\n",
    "    print(\"Neural network model\\n\")\n",
    "    print(\"Train accuracy:\", np.round(accuracy_score(train_y_3,\n",
    "                                                     model_3.predict(train_x_3)), 2))\n",
    "    print(\"Train f1_score:\", np.round(f1_score(train_y_3,\n",
    "                                               model_3.predict(train_x_3),\n",
    "                                               average =\"macro\"), 2))\n",
    "    return model_3\n",
    "\n",
    "\n",
    "def random_forest_model( train_x_4, test_x_4, train_y_4, test_y_4):\n",
    "    '''\n",
    "    :param train_x_4: 70% of the train data from the observation variables\n",
    "    :param test_x_4: 30% of the test data from the observation variables\n",
    "    :param train_y_4: 70% of the train data from the response variables\n",
    "    :param test_y_4: 30% of the test data from the response variables\n",
    "    :return: model_4\n",
    "    '''\n",
    "    model_4 = RandomForestClassifier(random_state=42)\n",
    "    model_4.fit(train_x_4, train_y_4)\n",
    "    print(\"Random Forest model\\n\")\n",
    "    print(\"Train accuracy:\", np.round(accuracy_score(train_y_4,\n",
    "                                                     model_4.predict(train_x_4)), 2))\n",
    "    print(\"Train f1_score:\", np.round(f1_score(train_y_4,\n",
    "                                               model_4.predict(train_x_4),\n",
    "                                               average =\"macro\"), 2))\n",
    "    return model_4"
   ]
  },
  {
   "cell_type": "markdown",
   "metadata": {
    "id": "2sCz9YNf6qyd"
   },
   "source": [
    "##**Evaluating each model on the train data:**"
   ]
  },
  {
   "cell_type": "markdown",
   "metadata": {
    "id": "dswoAvXw6rqg"
   },
   "source": [
    "##**Naive Bayes Gaussian model**\n",
    "\n",
    "Naive Bayes is a classification algorithm for binary (two-class) and multiclass classification problems. It is called Naive Bayes or idiot Bayes because the calculations of the probabilities for each class are simplified to make their calculations tractable. We will be using this model to fit against the training dataset and observe its accuracy and f1 score."
   ]
  },
  {
   "cell_type": "code",
   "execution_count": 14,
   "metadata": {
    "colab": {
     "base_uri": "https://localhost:8080/"
    },
    "id": "g14Dgtjk7QjK",
    "outputId": "65271525-6ea6-4906-cb2f-0ca93cb39c09"
   },
   "outputs": [
    {
     "name": "stdout",
     "output_type": "stream",
     "text": [
      "Naive Bayes Gaussian model\n",
      "\n",
      "Train accuracy: 0.72\n",
      "Train f1_score: 0.4\n"
     ]
    }
   ],
   "source": [
    "# Naive Bayes Gaussian model\n",
    "model_nb = naivebayes_gaussian_model(x_trainset, x_testset, y_trainset,\n",
    "                                     y_testset)"
   ]
  },
  {
   "cell_type": "markdown",
   "metadata": {
    "id": "bLKiGX0g7YhO"
   },
   "source": [
    "##**Decision Tree model**\n",
    "Decision Trees are a type of Supervised Machine Learning, where the data is continuously split according to a certain parameter. The tree can be explained by two entities, namely decision nodes and leaves. The leaves are the decisions or the final outcomes. And the decision nodes are where the data is split. We will be using this model to fit against the training dataset and observe its accuracy and f1 score."
   ]
  },
  {
   "cell_type": "code",
   "execution_count": 15,
   "metadata": {
    "colab": {
     "base_uri": "https://localhost:8080/"
    },
    "id": "gCcn1P-q7jra",
    "outputId": "61103073-3c7e-4763-e653-71277f8818c8"
   },
   "outputs": [
    {
     "name": "stdout",
     "output_type": "stream",
     "text": [
      "Decision Tree model\n",
      "\n",
      "Train accuracy: 0.97\n",
      "Train f1_score: 0.95\n"
     ]
    }
   ],
   "source": [
    "# Decision Tree model\n",
    "model_dt = decision_tree_model(x_trainset, x_testset, y_trainset,\n",
    "                               y_testset)"
   ]
  },
  {
   "cell_type": "markdown",
   "metadata": {
    "id": "omsfWqpn7utl"
   },
   "source": [
    "##**MLPClassifier**\n",
    "MLPClassifier stands for Multi-layer Perceptron classifier which in the name itself connects to a Neural Network. Unlike other classification algorithms such as Support Vectors or Naive Bayes Classifier, MLPClassifier relies on an underlying Neural Network to perform the task of classification. We will be using this model to fit against the training dataset and observe its accuracy and f1 score."
   ]
  },
  {
   "cell_type": "code",
   "execution_count": 16,
   "metadata": {
    "colab": {
     "base_uri": "https://localhost:8080/"
    },
    "id": "Wrz8Kr9k77Di",
    "outputId": "07678e5f-0c39-4852-8a64-fb5e4f036836"
   },
   "outputs": [
    {
     "name": "stdout",
     "output_type": "stream",
     "text": [
      "Neural network model\n",
      "\n",
      "Train accuracy: 0.96\n",
      "Train f1_score: 0.91\n"
     ]
    }
   ],
   "source": [
    "# Neural network model\n",
    "model_nn = neural_network_model(x_trainset, x_testset, y_trainset,\n",
    "                                y_testset)"
   ]
  },
  {
   "cell_type": "markdown",
   "metadata": {
    "id": "QVOlsTvS8EkY"
   },
   "source": [
    "##**Random Forest model**\n",
    "Random forest is a Supervised Machine Learning Algorithm that is used widely in Classification problems. It builds decision trees on different samples and takes their majority vote for classification.\n",
    "\n",
    "One of the most important features of the Random Forest Algorithm is that it can handle categorical variables in the case of classification. We will be using this model to fit against the training dataset and observe its accuracy and f1 score."
   ]
  },
  {
   "cell_type": "code",
   "execution_count": 17,
   "metadata": {
    "colab": {
     "base_uri": "https://localhost:8080/"
    },
    "id": "EA3-tSmN8WGU",
    "outputId": "da2cd352-b34a-4968-c859-af5a2700e78a"
   },
   "outputs": [
    {
     "name": "stdout",
     "output_type": "stream",
     "text": [
      "Random Forest model\n",
      "\n",
      "Train accuracy: 0.97\n",
      "Train f1_score: 0.95\n"
     ]
    }
   ],
   "source": [
    "# Random Forest model\n",
    "model_rf = random_forest_model(x_trainset, x_testset, y_trainset,\n",
    "                               y_testset)"
   ]
  },
  {
   "cell_type": "markdown",
   "metadata": {
    "id": "vMB0X14d8i4v"
   },
   "source": [
    "##**Best model for the train set is observed for Random Forest and Decision Tree:** \n",
    "Selecting the model with best accuracy and f1 score against the train dataset.Random forest is a personal favourite over decision tree . Random forest model happens to have multiple decision trees in it. Which makes it a better tree model when compared with decision tree. Hence checking accuracy and f1score of the test dataset as well."
   ]
  },
  {
   "cell_type": "code",
   "execution_count": 18,
   "metadata": {
    "colab": {
     "base_uri": "https://localhost:8080/"
    },
    "id": "snRHXZng9bvt",
    "outputId": "887d8fa4-badb-44ba-b33e-64c1acddcf26"
   },
   "outputs": [
    {
     "name": "stdout",
     "output_type": "stream",
     "text": [
      "Test accuracy: 0.94 \n",
      "\n",
      "Test f1_score: 0.88 \n",
      "\n"
     ]
    }
   ],
   "source": [
    "predict_y = model_rf.predict(x_testset)\n",
    "print(\"Test accuracy:\", np.round(accuracy_score(y_testset, predict_y), 2),\"\\n\")\n",
    "print(\"Test f1_score:\", np.round(f1_score(y_testset, predict_y,\n",
    "                                          average =\"macro\"), 2),\"\\n\")"
   ]
  },
  {
   "cell_type": "markdown",
   "metadata": {
    "id": "B3ORKOzs9rEO"
   },
   "source": [
    "##**Hyperparameter tuning:**\n",
    "The accuracy and f1score for train dataset are 0.97 and 0.95 respectively. Whereas their accuracy and f1score for test dataset are 0.94 and 0.88 respectively. Which demonstrates there is a slight overfitting. Trying hyperparameter tuning to observe if there is anyway to improve the model performance. Giving a cross validation of 5 folds and providing multiple parameters to segregate the best hyperparameter setting."
   ]
  },
  {
   "cell_type": "code",
   "execution_count": 19,
   "metadata": {
    "colab": {
     "base_uri": "https://localhost:8080/"
    },
    "id": "EUg57Rdm-gFF",
    "outputId": "719c25d3-934a-42ab-d01e-9d1a41b5495b"
   },
   "outputs": [
    {
     "name": "stdout",
     "output_type": "stream",
     "text": [
      "Random Forest model\n",
      "\n",
      "Best esimator:RandomForestClassifier(max_depth=15, min_samples_split=3, n_estimators=10,\n",
      "                       random_state=42)\n",
      "Best score:0.8855714486959245\n",
      "                                               params  mean_train_score  \\\n",
      "63  {'max_depth': 15, 'min_samples_split': 3, 'n_e...          0.893447   \n",
      "68  {'max_depth': 15, 'min_samples_split': 3, 'n_e...          0.889797   \n",
      "70  {'max_depth': 15, 'min_samples_split': 5, 'n_e...          0.888989   \n",
      "69  {'max_depth': 15, 'min_samples_split': 3, 'n_e...          0.889489   \n",
      "64  {'max_depth': 15, 'min_samples_split': 3, 'n_e...          0.890598   \n",
      "..                                                ...               ...   \n",
      "16  {'max_depth': 3, 'min_samples_split': 10, 'n_e...          0.611553   \n",
      "2   {'max_depth': 3, 'min_samples_split': 3, 'n_es...          0.611553   \n",
      "14  {'max_depth': 3, 'min_samples_split': 10, 'n_e...          0.611358   \n",
      "7   {'max_depth': 3, 'min_samples_split': 5, 'n_es...          0.611358   \n",
      "0   {'max_depth': 3, 'min_samples_split': 3, 'n_es...          0.611358   \n",
      "\n",
      "    mean_test_score   diff, %  \n",
      "63         0.885571  0.881446  \n",
      "68         0.885465  0.486940  \n",
      "70         0.885413  0.402245  \n",
      "69         0.885412  0.458349  \n",
      "64         0.885315  0.593216  \n",
      "..              ...       ...  \n",
      "16         0.611491  0.010133  \n",
      "2          0.611491  0.010133  \n",
      "14         0.611431 -0.011998  \n",
      "7          0.611431 -0.011998  \n",
      "0          0.611431 -0.011998  \n",
      "\n",
      "[84 rows x 4 columns]\n"
     ]
    }
   ],
   "source": [
    "param_grid = {\n",
    "    'n_estimators': [10, 50, 100, 150, 200, 250, 1000],\n",
    "    'max_depth': [3, 5, 10, 15],\n",
    "    'min_samples_split': [3, 5, 10]\n",
    "}\n",
    "best_model = RandomForestClassifier(random_state=42)\n",
    "grid_search = GridSearchCV(best_model, param_grid, cv=5, scoring='f1_macro',\n",
    "                           return_train_score=True)\n",
    "grid_search.fit(x_trainset, y_trainset)\n",
    "print(\"Random Forest model\\n\")\n",
    "print(\"Best esimator:{}\".format(grid_search.best_estimator_))\n",
    "print(\"Best score:{}\".format(grid_search.best_score_))\n",
    "cv_results = pd.DataFrame(grid_search.cv_results_)[['params', \n",
    "                                                    'mean_train_score', \n",
    "                                                    'mean_test_score']]\n",
    "cv_results[\"diff, %\"] = 100*(cv_results[\"mean_train_score\"]\n",
    "                             -cv_results[\"mean_test_score\"])/cv_results[\"mean_train_score\"]\n",
    "print(cv_results.sort_values('mean_test_score', ascending=False))"
   ]
  },
  {
   "cell_type": "markdown",
   "metadata": {
    "id": "G-VCg693_bwk"
   },
   "source": [
    "##**Storing the fitted model:**\n",
    "Once the optimal setting for the model is found via Gridsearch. We dump the best estimator parameters into a file of specific format."
   ]
  },
  {
   "cell_type": "code",
   "execution_count": 20,
   "metadata": {
    "colab": {
     "base_uri": "https://localhost:8080/"
    },
    "id": "lANBp6LT_ivg",
    "outputId": "a7680c52-8416-43f0-b6ae-a23fd32046a5"
   },
   "outputs": [
    {
     "data": {
      "text/plain": [
       "['models/rf-clf.joblib']"
      ]
     },
     "execution_count": 20,
     "metadata": {},
     "output_type": "execute_result"
    }
   ],
   "source": [
    "import os\n",
    "from joblib import dump\n",
    "\n",
    "# create a folder where all trained models will be kept\n",
    "if not os.path.exists(\"models\"):\n",
    "    os.makedirs(\"models\")\n",
    "    \n",
    "dump(grid_search.best_estimator_, 'models/rf-clf.joblib')"
   ]
  },
  {
   "cell_type": "markdown",
   "metadata": {
    "id": "KRUwVrSCOVtZ"
   },
   "source": [
    "##**Loading the model built with best parameters:**\n",
    "Using the module joblib to import the model"
   ]
  },
  {
   "cell_type": "code",
   "execution_count": 21,
   "metadata": {
    "id": "4QJMzZQ3_sFY"
   },
   "outputs": [],
   "source": [
    "from joblib import load\n",
    "\n",
    "best_rf = load(\"models/rf-clf.joblib\")"
   ]
  },
  {
   "cell_type": "markdown",
   "metadata": {
    "id": "KypNKJw9_xCZ"
   },
   "source": [
    "##**Running the best settings obtained from hyperparameter tuning to observe any improvement in the performance:**\n",
    "\n",
    "We can observe that the accuracy is increased by 1% as the value obtained is 0.95. whereas there is not much variation in the f1score from the default model setup."
   ]
  },
  {
   "cell_type": "code",
   "execution_count": 22,
   "metadata": {
    "colab": {
     "base_uri": "https://localhost:8080/"
    },
    "id": "BB84qSUd_yqm",
    "outputId": "085f878a-0125-4c4b-a2a7-75ec3da6b1d9"
   },
   "outputs": [
    {
     "name": "stdout",
     "output_type": "stream",
     "text": [
      "Random Forest\n",
      "Precision: 0.9731669321333453\n",
      "Recall: 0.8202475152929319\n",
      "F-score: 0.8818094190446454\n",
      "Test accuracy: 0.95 \n",
      "\n"
     ]
    }
   ],
   "source": [
    "from sklearn.metrics import precision_recall_fscore_support\n",
    "yhat = best_rf.predict(x_testset)\n",
    "\n",
    "p, r, f, s = precision_recall_fscore_support(y_testset, yhat, average =\"macro\")\n",
    "print(\"Random Forest\")\n",
    "print(f\"Precision: {p}\")\n",
    "print(f\"Recall: {r}\")\n",
    "print(f\"F-score: {f}\")\n",
    "print(\"Test accuracy:\", np.round(accuracy_score(y_testset, yhat), 2),\"\\n\")"
   ]
  },
  {
   "cell_type": "markdown",
   "metadata": {
    "id": "2tTEnhWDAepC"
   },
   "source": [
    "##**Conclusion:**\n",
    "This individual project was successfully implemented. Several alternative models were used to address the business problem.\n",
    "The baseline for the models were calculated manually and model evaluation was done against four models, out of which two models performed well. One of the two models were checked against the test dataset to identify, if there is a case of overfitting or underfitting. Slight overfitting was observed hence hyperparameter tunning was employed. Based on hyperparameter tuning, the best setting that can improve the model performance was obtained. Finally we singled out the settings to individually observe the performance.\n",
    "\n",
    "##**Key finding:**\n",
    "\n",
    "We are able to accurately predict accident severity based on the features that are currently selected.\n",
    "\n",
    "##**Possible future improvements:**\n",
    "\n",
    "Feature engineering and Dimensionality reduction were methods that were not explored in the individual task. These methods can be investigated further for future improvements. "
   ]
  }
 ],
 "metadata": {
  "accelerator": "GPU",
  "colab": {
   "name": "Individual_assignment_BDFDM.ipynb",
   "provenance": []
  },
  "kernelspec": {
   "display_name": "Python 3",
   "language": "python",
   "name": "python3"
  },
  "language_info": {
   "codemirror_mode": {
    "name": "ipython",
    "version": 3
   },
   "file_extension": ".py",
   "mimetype": "text/x-python",
   "name": "python",
   "nbconvert_exporter": "python",
   "pygments_lexer": "ipython3",
   "version": "3.8.8"
  }
 },
 "nbformat": 4,
 "nbformat_minor": 1
}
